{
 "cells": [
  {
   "cell_type": "markdown",
   "metadata": {},
   "source": [
    "# Exciting Stuff\n",
    "\n",
    "In this notebook you will solve a problem that was posed as follows for CS189 Spring 2017 (with minor modifications): \n",
    "\n",
    "\"Jordan is planning the frat party of the semester. He’s completely stocked up on Franzia. Unfortunately, the\n",
    "labels for 497 boxes (test set) have been scratched off, and he needs to quickly find out which boxes contain\n",
    "Red wine (label 1) and White wine (label 0). Fortunately, for him the boxes still have their Nutrition Facts\n",
    "(features) intact and detail the chemical composition of the wine inside the boxes (the description of these\n",
    "features and the features themselves are provided in data.mat). He also has 6,000 boxes with Nutrition\n",
    "Facts and labels intact (train set). Help Jordan figure out what the labels should be for the 497 mystery boxes.\"\n",
    "\n",
    "Dataset creds: Jonathan Shewchuk's CS189 Spring 2017"
   ]
  },
  {
   "cell_type": "code",
   "execution_count": 1,
   "metadata": {
    "collapsed": true
   },
   "outputs": [],
   "source": [
    "from scipy.io import loadmat as loadmat\n",
    "import matplotlib\n",
    "import numpy as np\n",
    "import matplotlib.cm as cm\n",
    "import matplotlib.mlab as mlab\n",
    "import matplotlib.pyplot as plt\n",
    "import math"
   ]
  },
  {
   "cell_type": "markdown",
   "metadata": {},
   "source": [
    "## Important Functions\n",
    "Fill these in so that we can perform training. "
   ]
  },
  {
   "cell_type": "code",
   "execution_count": 12,
   "metadata": {},
   "outputs": [],
   "source": [
    "def sigmoid(X, w):\n",
    "    \"\"\"\n",
    "    Compute the elementwise sigmoid of the product Xw\n",
    "    Data in X should be rows, weights are a column. \n",
    "    \"\"\"\n",
    "    return 1 / (1 + np.exp(-np.dot(X, w)))\n",
    "\n",
    "def gradient(X, y, w, onept, lamb=0):\n",
    "    \"\"\"\n",
    "    Compute gradient of regularized loss function. \n",
    "    Accomodate for if X is just one data point. \n",
    "    \"\"\"\n",
    "    if onept: \n",
    "        return 2 * lamb * w - ((y - sigmoid(X, w)) * X).reshape(w.size, 1)\n",
    "    return 2 * lamb * w - np.dot(X.T, y - sigmoid(X, w)) / y.size\n",
    "\n",
    "def loss(X, y, w, lamb=0):\n",
    "    \"\"\"\n",
    "    Compute total loss for the data in X, labels in y, params w\n",
    "    \"\"\"\n",
    "    sumcost = 0\n",
    "    for i in range(X.shape[0]):\n",
    "        sumcost += y[i] * np.log(sigmoid(X[i], w)) + (1 - y[i]) * np.log(1 - sigmoid(X[i], w))\n",
    "    return lamb * np.linalg.norm(w)**2 - sumcost / y.size\n",
    "\n",
    "def accuracy(X, y, w):\n",
    "    \"\"\"\n",
    "    Compute accuracy for data in X, labels in y, params w\n",
    "    \"\"\"\n",
    "    results = np.round(sigmoid(X, w))\n",
    "    score = sum([results[i] == y[i] for i in range(y.size)]) / y.size\n",
    "    return score[0]"
   ]
  },
  {
   "cell_type": "markdown",
   "metadata": {},
   "source": [
    "## Load in the Data\n",
    "This procedure uses loading a .mat file. The returned object is a dictionary that has numpy arrays as values. "
   ]
  },
  {
   "cell_type": "code",
   "execution_count": 6,
   "metadata": {},
   "outputs": [
    {
     "data": {
      "text/plain": [
       "dict_keys(['__globals__', '__version__', 'X', 'y', '__header__', 'X_test', 'description'])"
      ]
     },
     "execution_count": 6,
     "metadata": {},
     "output_type": "execute_result"
    }
   ],
   "source": [
    "winedata = loadmat('./Data-Science-Decal-Fall-2017/Day4-LogisticRegression/data.mat')\n",
    "winedata.keys()"
   ]
  },
  {
   "cell_type": "markdown",
   "metadata": {},
   "source": [
    "## Preprocessing Data\n",
    "- It's generally a good idea to normalize feature vectors before proceeding further. Why do you suppose this makes sense?  \n",
    "- Let's also add a bias feature to improve the capacity of our model. \n",
    "\n"
   ]
  },
  {
   "cell_type": "code",
   "execution_count": 21,
   "metadata": {},
   "outputs": [
    {
     "data": {
      "text/plain": [
       "(6000, 12)"
      ]
     },
     "execution_count": 21,
     "metadata": {},
     "output_type": "execute_result"
    }
   ],
   "source": [
    "wineTrain = winedata['X']\n",
    "wineLabels = winedata['y']\n",
    "\n",
    "#wineTrain = np.concatenate([wineTrain, np.ones((wineTrain.shape[0], 1))], axis=1)\n",
    "wineTrain.shape"
   ]
  },
  {
   "cell_type": "markdown",
   "metadata": {},
   "source": [
    "## Batch Gradient Descent\n",
    "- First instantiate a normalized weight vector.\n",
    "- Create an empty list of loss values which we will fill and visualize.\n",
    "- Perform training using the entire dataset for gradient calculations"
   ]
  },
  {
   "cell_type": "code",
   "execution_count": 26,
   "metadata": {},
   "outputs": [
    {
     "name": "stderr",
     "output_type": "stream",
     "text": [
      "/Library/Frameworks/Python.framework/Versions/3.4/lib/python3.4/site-packages/ipykernel/__main__.py:23: RuntimeWarning: divide by zero encountered in log\n",
      "/Library/Frameworks/Python.framework/Versions/3.4/lib/python3.4/site-packages/ipykernel/__main__.py:23: RuntimeWarning: invalid value encountered in multiply\n"
     ]
    }
   ],
   "source": [
    "weights = np.asarray([np.random.rand() for i in range(wineTrain.shape[1])]).reshape(wineTrain.shape[1], 1)\n",
    "weights /= np.linalg.norm(weights)\n",
    "losses = []\n",
    "accuracies = []\n",
    "epsilon = 0.001\n",
    "num_iterations = 100\n",
    "\n",
    "for i in range(100):\n",
    "    diff = epsilon * gradient(wineTrain, wineLabels, weights, False)\n",
    "    weights = weights - diff\n",
    "    losses.append(loss(wineTrain, wineLabels, weights))\n",
    "    accuracies.append(accuracy(wineTrain, wineLabels, weights))"
   ]
  },
  {
   "cell_type": "markdown",
   "metadata": {},
   "source": [
    "## Visualize The Loss \n",
    "- Plot loss values with respect to every training step. \n",
    "- How can you explain the shape that this graph takes? "
   ]
  },
  {
   "cell_type": "code",
   "execution_count": 27,
   "metadata": {},
   "outputs": [
    {
     "data": {
      "image/png": "[encoded data removed]",
      "text/plain": [
       "<matplotlib.figure.Figure at 0x108d21b70>"
      ]
     },
     "metadata": {},
     "output_type": "display_data"
    },
    {
     "name": "stdout",
     "output_type": "stream",
     "text": [
      "0.919833333333\n"
     ]
    }
   ],
   "source": [
    "plt.figure(figsize=[10,10])\n",
    "plt.plot(np.arange(num_iterations), losses, 'ro')\n",
    "plt.plot(np.arange(num_iterations), accuracies, 'bo')\n",
    "plt.title('Loss and Accuracy During Training Using Batch Gradient Descent')\n",
    "plt.ylabel('Value')\n",
    "plt.xlabel('Iteration Number')\n",
    "plt.show()\n",
    "print(accuracy(wineTrain, wineLabels, weights))"
   ]
  },
  {
   "cell_type": "markdown",
   "metadata": {},
   "source": [
    "## Repeat Training Exercise with SGD\n",
    "- Training with respect to only one point instead of the whole dataset. \n",
    "- Plot the losses. Why does the graph take the shape that it does?"
   ]
  },
  {
   "cell_type": "code",
   "execution_count": 61,
   "metadata": {
    "collapsed": true
   },
   "outputs": [],
   "source": [
    "sweights = np.asarray([np.random.rand() for i in range(wineTrain.shape[1])]).reshape(wineTrain.shape[1], 1)\n",
    "sweights /= np.linalg.norm(sweights)\n",
    "scosts = []\n",
    "saccuracies = []\n",
    "epsilon = 0.01\n",
    "\n",
    "for i in range(40000):\n",
    "    randpoint = int(wineTrain.shape[0] * np.random.rand())\n",
    "    diff = epsilon * gradient(wineTrain[randpoint], wineLabels[randpoint], sweights, True)\n",
    "    sweights = sweights - diff\n",
    "    if i % 200 == 0:\n",
    "        scosts.append(loss(wineTrain, wineLabels, sweights))\n",
    "        saccuracies.append(accuracy(wineTrain, wineLabels, sweights))"
   ]
  },
  {
   "cell_type": "code",
   "execution_count": 62,
   "metadata": {},
   "outputs": [
    {
     "data": {
      "image/png": "[encoded data removed]",
      "text/plain": [
       "<matplotlib.figure.Figure at 0x1096cb668>"
      ]
     },
     "metadata": {},
     "output_type": "display_data"
    },
    {
     "name": "stdout",
     "output_type": "stream",
     "text": [
      "0.8945\n"
     ]
    }
   ],
   "source": [
    "plt.figure(figsize=[10,10])\n",
    "plt.plot(np.arange(200), scosts, 'ro')\n",
    "plt.title('Loss During Training Using Stochastic Gradient Descent')\n",
    "plt.ylabel('Loss Value')\n",
    "plt.xlabel('Iteration Number')\n",
    "plt.show()\n",
    "print(accuracy(wineTrain, wineLabels, sweights))"
   ]
  },
  {
   "cell_type": "markdown",
   "metadata": {
    "collapsed": true
   },
   "source": [
    "## Trying Different Regularization Constants\n",
    "- Let's see if we can get better generalization (validation accuracy) with regularization\n",
    "- Produce bar chart for validation accuracy given a different value of labmda"
   ]
  },
  {
   "cell_type": "code",
   "execution_count": 49,
   "metadata": {},
   "outputs": [
    {
     "name": "stdout",
     "output_type": "stream",
     "text": [
      "[1581 5283 5517 ...,  822 1709 1713]\n",
      "[ 0.83333333]\n",
      "[ 0.77845118]\n",
      "[ 0.83333333]\n",
      "[ 0.77508418]\n",
      "[ 0.83333333]\n",
      "[ 0.77272727]\n",
      "[ 0.83333333]\n",
      "[ 0.77188552]\n",
      "[ 0.8]\n",
      "[ 0.7547138]\n",
      "[ 0.8]\n",
      "[ 0.7547138]\n",
      "[ 0.8]\n",
      "[ 0.7547138]\n",
      "[ 0.8]\n",
      "[ 0.7547138]\n"
     ]
    }
   ],
   "source": [
    "lambdas = [0, 0.001, 0.01, 0.1, 1, 5, 10, 100]\n",
    "epsilon = 0.001\n",
    "\n",
    "num_val_points = int(0.99 * wineTrain.shape[0])\n",
    "indices = np.arange(wineTrain.shape[0]).astype(int)\n",
    "np.random.shuffle(indices)\n",
    "print(indices)\n",
    "\n",
    "train_data = wineTrain[indices[num_val_points:]]\n",
    "train_labels = wineLabels[indices[num_val_points:]]\n",
    "val_data = wineTrain[indices[:num_val_points]]\n",
    "val_labels = wineLabels[indices[:num_val_points]]\n",
    "\n",
    "\n",
    "for lamb in lambdas:\n",
    "    w = np.asarray([np.random.rand() for i in range(13)]).reshape(13, 1)\n",
    "    w /= np.linalg.norm(w)\n",
    "    for i in range(1000):\n",
    "        diff = epsilon * gradient(train_data, train_labels, w, False, lamb)\n",
    "        w = w - diff\n",
    "    print(accuracy(train_data, train_labels, w))\n",
    "    print(accuracy(val_data, val_labels, w))"
   ]
  },
  {
   "cell_type": "code",
   "execution_count": null,
   "metadata": {
    "collapsed": true
   },
   "outputs": [],
   "source": []
  },
  {
   "cell_type": "code",
   "execution_count": null,
   "metadata": {
    "collapsed": true
   },
   "outputs": [],
   "source": []
  }
 ],
 "metadata": {
  "kernelspec": {
   "display_name": "Python 3",
   "language": "python",
   "name": "python3"
  },
  "language_info": {
   "codemirror_mode": {
    "name": "ipython",
    "version": 3
   },
   "file_extension": ".py",
   "mimetype": "text/x-python",
   "name": "python",
   "nbconvert_exporter": "python",
   "pygments_lexer": "ipython3",
   "version": "3.6.1"
  }
 },
 "nbformat": 4,
 "nbformat_minor": 2
}
