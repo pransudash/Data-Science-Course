{
 "cells": [
  {
   "cell_type": "markdown",
   "metadata": {},
   "source": [
    "# Building Decision Trees and Random Forests\n",
    "In this notebook we will build decision tree and random forest classes that will act as classifiers on the Titanic dataset. The features of the dataset describe the passenger, and the label describes whether or not they survived. \n",
    "\n",
    "Dataset Credits: Professor Shewchuk's CS189 Spring 2017"
   ]
  },
  {
   "cell_type": "code",
   "execution_count": 13,
   "metadata": {
    "collapsed": true
   },
   "outputs": [],
   "source": [
    "import numpy as np\n",
    "import matplotlib.pyplot as plt\n",
    "import math\n",
    "import pandas as pd\n",
    "%matplotlib inline"
   ]
  },
  {
   "cell_type": "code",
   "execution_count": 14,
   "metadata": {
    "collapsed": false
   },
   "outputs": [
    {
     "data": {
      "text/html": [
       "<div>\n",
       "<table border=\"1\" class=\"dataframe\">\n",
       "  <thead>\n",
       "    <tr style=\"text-align: right;\">\n",
       "      <th></th>\n",
       "      <th>survived</th>\n",
       "      <th>pclass</th>\n",
       "      <th>sex</th>\n",
       "      <th>age</th>\n",
       "      <th>sibsp</th>\n",
       "      <th>parch</th>\n",
       "      <th>ticket</th>\n",
       "      <th>fare</th>\n",
       "      <th>cabin</th>\n",
       "      <th>embarked</th>\n",
       "    </tr>\n",
       "  </thead>\n",
       "  <tbody>\n",
       "    <tr>\n",
       "      <th>0</th>\n",
       "      <td>0.0</td>\n",
       "      <td>3.0</td>\n",
       "      <td>male</td>\n",
       "      <td>NaN</td>\n",
       "      <td>0.0</td>\n",
       "      <td>0.0</td>\n",
       "      <td>SOTON/OQ 392086</td>\n",
       "      <td>8.0500</td>\n",
       "      <td>NaN</td>\n",
       "      <td>S</td>\n",
       "    </tr>\n",
       "    <tr>\n",
       "      <th>1</th>\n",
       "      <td>0.0</td>\n",
       "      <td>1.0</td>\n",
       "      <td>male</td>\n",
       "      <td>22.0</td>\n",
       "      <td>0.0</td>\n",
       "      <td>0.0</td>\n",
       "      <td>PC 17760</td>\n",
       "      <td>135.6333</td>\n",
       "      <td>NaN</td>\n",
       "      <td>C</td>\n",
       "    </tr>\n",
       "    <tr>\n",
       "      <th>2</th>\n",
       "      <td>0.0</td>\n",
       "      <td>2.0</td>\n",
       "      <td>male</td>\n",
       "      <td>23.0</td>\n",
       "      <td>0.0</td>\n",
       "      <td>0.0</td>\n",
       "      <td>SC/PARIS 2133</td>\n",
       "      <td>15.0458</td>\n",
       "      <td>NaN</td>\n",
       "      <td>C</td>\n",
       "    </tr>\n",
       "    <tr>\n",
       "      <th>3</th>\n",
       "      <td>0.0</td>\n",
       "      <td>2.0</td>\n",
       "      <td>male</td>\n",
       "      <td>42.0</td>\n",
       "      <td>0.0</td>\n",
       "      <td>0.0</td>\n",
       "      <td>211535</td>\n",
       "      <td>13.0000</td>\n",
       "      <td>NaN</td>\n",
       "      <td>S</td>\n",
       "    </tr>\n",
       "    <tr>\n",
       "      <th>4</th>\n",
       "      <td>0.0</td>\n",
       "      <td>3.0</td>\n",
       "      <td>male</td>\n",
       "      <td>20.0</td>\n",
       "      <td>0.0</td>\n",
       "      <td>0.0</td>\n",
       "      <td>7534</td>\n",
       "      <td>9.8458</td>\n",
       "      <td>NaN</td>\n",
       "      <td>S</td>\n",
       "    </tr>\n",
       "  </tbody>\n",
       "</table>\n",
       "</div>"
      ],
      "text/plain": [
       "   survived  pclass   sex   age  sibsp  parch           ticket      fare  \\\n",
       "0       0.0     3.0  male   NaN    0.0    0.0  SOTON/OQ 392086    8.0500   \n",
       "1       0.0     1.0  male  22.0    0.0    0.0         PC 17760  135.6333   \n",
       "2       0.0     2.0  male  23.0    0.0    0.0    SC/PARIS 2133   15.0458   \n",
       "3       0.0     2.0  male  42.0    0.0    0.0           211535   13.0000   \n",
       "4       0.0     3.0  male  20.0    0.0    0.0             7534    9.8458   \n",
       "\n",
       "  cabin embarked  \n",
       "0   NaN        S  \n",
       "1   NaN        C  \n",
       "2   NaN        C  \n",
       "3   NaN        S  \n",
       "4   NaN        S  "
      ]
     },
     "execution_count": 14,
     "metadata": {},
     "output_type": "execute_result"
    }
   ],
   "source": [
    "from scipy.io import loadmat as loadmat\n",
    "import matplotlib.pyplot as plt\n",
    "\n",
    "titanicDataFrame = pd.read_csv('titanic_training.csv')\n",
    "titanicDataFrame.head()"
   ]
  },
  {
   "cell_type": "code",
   "execution_count": 27,
   "metadata": {
    "collapsed": false
   },
   "outputs": [
    {
     "name": "stdout",
     "output_type": "stream",
     "text": [
      "(999, 16)\n"
     ]
    },
    {
     "data": {
      "text/html": [
       "<div>\n",
       "<table border=\"1\" class=\"dataframe\">\n",
       "  <thead>\n",
       "    <tr style=\"text-align: right;\">\n",
       "      <th></th>\n",
       "      <th>pclass</th>\n",
       "      <th>age</th>\n",
       "      <th>sibsp</th>\n",
       "      <th>parch</th>\n",
       "      <th>fare</th>\n",
       "      <th>sex_male</th>\n",
       "      <th>cabin_B</th>\n",
       "      <th>cabin_C</th>\n",
       "      <th>cabin_D</th>\n",
       "      <th>cabin_E</th>\n",
       "      <th>cabin_F</th>\n",
       "      <th>cabin_G</th>\n",
       "      <th>cabin_H</th>\n",
       "      <th>cabin_T</th>\n",
       "      <th>embarked_Q</th>\n",
       "      <th>embarked_S</th>\n",
       "    </tr>\n",
       "  </thead>\n",
       "  <tbody>\n",
       "    <tr>\n",
       "      <th>0</th>\n",
       "      <td>3.0</td>\n",
       "      <td>0.0</td>\n",
       "      <td>0.0</td>\n",
       "      <td>0.0</td>\n",
       "      <td>8.0500</td>\n",
       "      <td>1</td>\n",
       "      <td>0</td>\n",
       "      <td>0</td>\n",
       "      <td>0</td>\n",
       "      <td>0</td>\n",
       "      <td>0</td>\n",
       "      <td>0</td>\n",
       "      <td>1</td>\n",
       "      <td>0</td>\n",
       "      <td>0</td>\n",
       "      <td>1</td>\n",
       "    </tr>\n",
       "    <tr>\n",
       "      <th>1</th>\n",
       "      <td>1.0</td>\n",
       "      <td>22.0</td>\n",
       "      <td>0.0</td>\n",
       "      <td>0.0</td>\n",
       "      <td>135.6333</td>\n",
       "      <td>1</td>\n",
       "      <td>0</td>\n",
       "      <td>0</td>\n",
       "      <td>0</td>\n",
       "      <td>0</td>\n",
       "      <td>0</td>\n",
       "      <td>0</td>\n",
       "      <td>1</td>\n",
       "      <td>0</td>\n",
       "      <td>0</td>\n",
       "      <td>0</td>\n",
       "    </tr>\n",
       "    <tr>\n",
       "      <th>2</th>\n",
       "      <td>2.0</td>\n",
       "      <td>23.0</td>\n",
       "      <td>0.0</td>\n",
       "      <td>0.0</td>\n",
       "      <td>15.0458</td>\n",
       "      <td>1</td>\n",
       "      <td>0</td>\n",
       "      <td>0</td>\n",
       "      <td>0</td>\n",
       "      <td>0</td>\n",
       "      <td>0</td>\n",
       "      <td>0</td>\n",
       "      <td>1</td>\n",
       "      <td>0</td>\n",
       "      <td>0</td>\n",
       "      <td>0</td>\n",
       "    </tr>\n",
       "    <tr>\n",
       "      <th>3</th>\n",
       "      <td>2.0</td>\n",
       "      <td>42.0</td>\n",
       "      <td>0.0</td>\n",
       "      <td>0.0</td>\n",
       "      <td>13.0000</td>\n",
       "      <td>1</td>\n",
       "      <td>0</td>\n",
       "      <td>0</td>\n",
       "      <td>0</td>\n",
       "      <td>0</td>\n",
       "      <td>0</td>\n",
       "      <td>0</td>\n",
       "      <td>1</td>\n",
       "      <td>0</td>\n",
       "      <td>0</td>\n",
       "      <td>1</td>\n",
       "    </tr>\n",
       "    <tr>\n",
       "      <th>4</th>\n",
       "      <td>3.0</td>\n",
       "      <td>20.0</td>\n",
       "      <td>0.0</td>\n",
       "      <td>0.0</td>\n",
       "      <td>9.8458</td>\n",
       "      <td>1</td>\n",
       "      <td>0</td>\n",
       "      <td>0</td>\n",
       "      <td>0</td>\n",
       "      <td>0</td>\n",
       "      <td>0</td>\n",
       "      <td>0</td>\n",
       "      <td>1</td>\n",
       "      <td>0</td>\n",
       "      <td>0</td>\n",
       "      <td>1</td>\n",
       "    </tr>\n",
       "  </tbody>\n",
       "</table>\n",
       "</div>"
      ],
      "text/plain": [
       "   pclass   age  sibsp  parch      fare  sex_male  cabin_B  cabin_C  cabin_D  \\\n",
       "0     3.0   0.0    0.0    0.0    8.0500         1        0        0        0   \n",
       "1     1.0  22.0    0.0    0.0  135.6333         1        0        0        0   \n",
       "2     2.0  23.0    0.0    0.0   15.0458         1        0        0        0   \n",
       "3     2.0  42.0    0.0    0.0   13.0000         1        0        0        0   \n",
       "4     3.0  20.0    0.0    0.0    9.8458         1        0        0        0   \n",
       "\n",
       "   cabin_E  cabin_F  cabin_G  cabin_H  cabin_T  embarked_Q  embarked_S  \n",
       "0        0        0        0        1        0           0           1  \n",
       "1        0        0        0        1        0           0           0  \n",
       "2        0        0        0        1        0           0           0  \n",
       "3        0        0        0        1        0           0           1  \n",
       "4        0        0        0        1        0           0           1  "
      ]
     },
     "execution_count": 27,
     "metadata": {},
     "output_type": "execute_result"
    }
   ],
   "source": [
    "titanicLabels = titanicDataFrame.iloc[:,0]\n",
    "titanicData = titanicDataFrame.iloc[:,1:]\n",
    "\n",
    "titanicData.drop('ticket', axis=1, inplace=True)\n",
    "titanicData.dropna(axis=0, how=\"all\", inplace=True)\n",
    "titanicLabels.dropna(axis=0, how=\"all\", inplace=True)\n",
    "for i in range(titanicData.shape[0]):\n",
    "    if not pd.isnull(titanicData.iloc[i,6]):\n",
    "        titanicData.iloc[i,6] = titanicData.iloc[i,6][0]\n",
    "    else:\n",
    "        titanicData.iloc[i,6] = \"H\"\n",
    "\n",
    "titanicData = pd.get_dummies(titanicData, drop_first=True).fillna(value=0, axis=1)\n",
    "print(titanicData.shape)\n",
    "titanicData.head()"
   ]
  },
  {
   "cell_type": "code",
   "execution_count": 20,
   "metadata": {
    "collapsed": false
   },
   "outputs": [
    {
     "data": {
      "image/png": "[encoded data removed]",
      "text/plain": [
       "<matplotlib.figure.Figure at 0x11e35c0f0>"
      ]
     },
     "metadata": {},
     "output_type": "display_data"
    }
   ],
   "source": [
    "x = np.arange(800)\n",
    "plt.figure(figsize=(8,8))\n",
    "plt.plot(x, np.sort(titanicData['fare'].values)[:800], 'ro')\n",
    "plt.show()\n",
    "#easily split on 1/10 of the values for fare "
   ]
  },
  {
   "cell_type": "markdown",
   "metadata": {},
   "source": [
    "## Cross Entropy Code\n",
    "Try to understand the different parts of the code. \n",
    "- What do a, b, c, d represent?\n",
    "- What do t1, t2 represent?"
   ]
  },
  {
   "cell_type": "code",
   "execution_count": 21,
   "metadata": {
    "collapsed": true
   },
   "outputs": [],
   "source": [
    "def cross_entropy(l1, l0, r1, r0):\n",
    "    \"\"\"\n",
    "    Calculate the entropy H_after, if after the split we have:\n",
    "    l1, l0 -> The left split, broken into the sets that are 1's and 0's.\n",
    "    r1, r0 -> The right split, broken into the sets that are 1's and 0's.\n",
    "    \"\"\"\n",
    "    t1 = 0\n",
    "    lsize = l1 + l0\n",
    "    if lsize > 0:\n",
    "        a = float(l1) / lsize            \n",
    "        b = 1 - a\n",
    "        if a != 0 and b != 0:\n",
    "            t1 += a * np.log(a)\n",
    "            t1 += b * np.log(b)\n",
    "        t1 *= lsize\n",
    "    \n",
    "    t2 = 0\n",
    "    rsize = r1 + r0\n",
    "    if rsize > 0:\n",
    "        c = float(r1) / rsize\n",
    "        d = 1 - c\n",
    "        if c != 0 and d != 0:\n",
    "            t2 += c * np.log(c)\n",
    "            t2 += d * np.log(d)\n",
    "        t2 *= rsize\n",
    "    #returns weighted total entropy\n",
    "    return -1 * (t1 + t2) / (lsize + rsize)"
   ]
  },
  {
   "cell_type": "markdown",
   "metadata": {},
   "source": [
    "## Decision Tree Code\n",
    "Recall that in a tree, all children are also classified as \"trees,\" i.e. A decision tree is always a tree of decision trees. "
   ]
  },
  {
   "cell_type": "code",
   "execution_count": 37,
   "metadata": {
    "collapsed": true
   },
   "outputs": [],
   "source": [
    "class DecisionTree: \n",
    "    def __init__(self, dataSet, labels, stopCriterion, depth, fselection=False, printer=False):\n",
    "        \"\"\"\n",
    "        Initialize a Decision Tree using the arguments:\n",
    "            dataSet, labels         : will be used to determine next split\n",
    "            stopCriterion           : [(majority/depth), value]\n",
    "            depth                   : the depth of this Decision Tree \n",
    "            fselection              : whether this tree will employ random feature selection\n",
    "        Also create instance variables:\n",
    "            stopCriterion           : turns from argument to a function. Use this function to judge when to stop.\n",
    "            stopParam               : this will be the argument to the stopCriterion function\n",
    "            leftNode, rightNode     : the tree's children\n",
    "            leaf, val               : leaf is whether the node is a leaf, val is what value the leaf holds\n",
    "            decision, decisionString: branching rule and string representation of the rule\n",
    "        Then proceed to growTree()     \n",
    "        \"\"\"\n",
    "        self.dataSet = dataSet\n",
    "        self.labels = labels\n",
    "        self.depth = depth\n",
    "        self.fselection = fselection\n",
    "        \n",
    "        self.stopParam = None\n",
    "        self.stopCritString = stopCriterion[0]\n",
    "        if stopCriterion[0] == \"majority\":\n",
    "            self.stopCriterion = self.majorityCriterion\n",
    "            self.stopParam = stopCriterion[1]\n",
    "        elif stopCriterion[0] == \"depth\":\n",
    "            self.stopCriterion = self.maxDepth\n",
    "            self.stopParam = stopCriterion[1]\n",
    "        \n",
    "        self.leftNode = None\n",
    "        self.rightNode = None\n",
    "        self.leaf = False\n",
    "        self.val = None\n",
    "        self.entropy = cross_entropy(np.sum(self.labels.values), self.labels.values.size - np.sum(self.labels.values), 0, 0)\n",
    "        \n",
    "        self.decision = None\n",
    "        self.decisionString = \"\"\n",
    "        self.growTree()\n",
    "        if depth == 0 and printer:\n",
    "            print(\"Finished making Decision Tree with criteria: \" + str(stopCriterion))\n",
    "        \n",
    "    def majorityCriterion(self, value):\n",
    "        \"\"\"\n",
    "        Determines if the larger part of the set is majority by at least the fraction \"value\"\n",
    "        \"\"\"\n",
    "        thesum = np.sum(self.labels.values)\n",
    "        thesize = self.labels.values.size\n",
    "        return thesum <= (1 - value) * thesize or thesum >= value * thesize\n",
    "    \n",
    "    def maxDepth(self, value):\n",
    "        \"\"\"\n",
    "        An OR between hitting max depth and some majority value (no need to split further needlessly)\n",
    "        \"\"\"\n",
    "        if self.depth == value:\n",
    "            return True\n",
    "        thesum = np.sum(self.labels.values)\n",
    "        thesize = self.labels.values.size\n",
    "        return thesum >= 0.85 * thesize or thesum <= 0.15 * thesize\n",
    "    \n",
    "    def growTree(self):\n",
    "        \"\"\"\n",
    "        growTree() as described in lecture.\n",
    "        \"\"\"\n",
    "        # dataSet is a pandas dataframe\n",
    "        workingData = self.dataSet\n",
    "        workingLabels = self.labels\n",
    "        dataLength = self.labels.size\n",
    "\n",
    "        featureNames = list(workingData.columns.values)\n",
    "        if self.fselection:\n",
    "            numFeatures = min(max(int(np.sqrt(len(featureNames))), 9) + 1, len(featureNames)) # at least 10 features\n",
    "            np.random.shuffle(featureNames)\n",
    "            featureNames = featureNames[:numFeatures]\n",
    "            \n",
    "        bestEntropy = self.entropy # starting value of entropy is the entropy of the node itself\n",
    "        totalOnes = np.sum(workingLabels)\n",
    "        bestFeatureSplit = []\n",
    "        \n",
    "        if self.stopCriterion(self.stopParam):\n",
    "            # don't actually grow tree in this case.\n",
    "            self.val = round(np.sum(self.labels.values)/self.labels.values.size)\n",
    "            self.leaf = True\n",
    "            return\n",
    "        \n",
    "        for feature in featureNames:\n",
    "            joined = pd.concat([workingData[feature], workingLabels], axis=1).sort_values(feature) # sort by feature\n",
    "            uniqueValues = joined[feature].unique()\n",
    "            numValues = uniqueValues.size # how many unique values\n",
    "\n",
    "            splitNumber = min(max(int(0.1 * numValues), 50), numValues) - 1 # get a reasonable number of splits   \n",
    "            \n",
    "            featureVals = joined[feature].values\n",
    "            labelVals = joined.iloc[:,1].values\n",
    "            \n",
    "            ind = 0\n",
    "            leftones = 0\n",
    "            rightones = totalOnes\n",
    "            for i in range(splitNumber):\n",
    "                # now we grab indices off the uniqueValues, scan lists\n",
    "                # split on a less than or equal to criteria at that value\n",
    "                nextValue = uniqueValues[int(i / splitNumber * numValues)]\n",
    "                while not (featureVals[ind] == nextValue and not featureVals[ind + 1] == nextValue):\n",
    "                    leftones += labelVals[ind] # adjusts count of each label for each side of split\n",
    "                    ind += 1\n",
    "                # we are at the index that we will be splitting on \n",
    "                leftones += labelVals[ind]\n",
    "                ind += 1\n",
    "                \n",
    "                # calculate cross entropy\n",
    "                rightones -= leftones\n",
    "                leftzeroes = ind - leftones\n",
    "                rightzeroes = dataLength - leftones - rightones - leftzeroes\n",
    "                entropy = cross_entropy(leftones, leftzeroes, rightones, rightzeroes)\n",
    "                if entropy < bestEntropy:\n",
    "                    # update bestEntropy if new split is superior\n",
    "                    bestEntropy = entropy\n",
    "                    bestFeatureSplit = [feature, ind, nextValue] # all the data required to describe a split\n",
    "         \n",
    "        # we have determined the best split by this point. \n",
    "        if len(bestFeatureSplit) < 3:\n",
    "            # this is if for some reason we were unable to find a split better than the current node's composition itself.\n",
    "            self.val = round(np.sum(self.labels.values)/self.labels.values.size)\n",
    "            self.leaf = True\n",
    "            return\n",
    "        self.decision = lambda x : x[bestFeatureSplit[0]] <= bestFeatureSplit[2] # create decision function\n",
    "        self.decisionString = \"Is \" + bestFeatureSplit[0] + \" less than or equal to \" + str(bestFeatureSplit[2]) + \"?\"\n",
    "        \n",
    "        preparedData = pd.concat([workingLabels, workingData], axis=1).sort_values(bestFeatureSplit[0])\n",
    "        # join the data back with labels, sort by feature\n",
    "        nextData = preparedData.iloc[:,1:]\n",
    "        nextLabels = preparedData.iloc[:,0]\n",
    "        \n",
    "        # take the 'ind' from 'bestFeatureSplit' to split into left and right parts. \n",
    "        # note the recursive definition of leftNode, rightNode\n",
    "        leftData = nextData.iloc[:bestFeatureSplit[1],:]\n",
    "        leftLabels = nextLabels.iloc[:bestFeatureSplit[1]]\n",
    "        self.leftNode = DecisionTree(leftData, leftLabels, [self.stopCritString, self.stopParam], self.depth + 1)\n",
    "        \n",
    "        rightData = nextData.iloc[bestFeatureSplit[1]:,:]\n",
    "        rightLabels = nextLabels.iloc[bestFeatureSplit[1]:]\n",
    "        self.rightNode = DecisionTree(rightData, rightLabels, [self.stopCritString, self.stopParam], self.depth + 1)\n",
    "        \n",
    "    def classifyPoint(self, point, verbose=False):\n",
    "        \"\"\"\n",
    "        Recursively send a point through the decision tree until it reaches a leaf. \n",
    "        Return value at the leaf.\n",
    "        \"\"\"\n",
    "        if self.leaf:\n",
    "            return self.val\n",
    "        elif self.decision(point):\n",
    "            if verbose:\n",
    "                print(self.decisionString, \" (Yes)\")\n",
    "            return self.leftNode.classifyPoint(point, verbose)\n",
    "        else:\n",
    "            if verbose:\n",
    "                print(self.decisionString, \" (No)\")\n",
    "            return self.rightNode.classifyPoint(point, verbose)\n",
    "    \n",
    "    def score(self, data, labels):\n",
    "        \"\"\"\n",
    "        Get accuracy of classifier on data.\n",
    "        \"\"\"\n",
    "        score = 0\n",
    "        for i in range(labels.size):\n",
    "            res = self.classifyPoint(data.iloc[i])\n",
    "            if res == labels.iloc[i]:\n",
    "                score += 1\n",
    "        return float(score) / labels.size\n"
   ]
  },
  {
   "cell_type": "markdown",
   "metadata": {},
   "source": [
    "## Random Forest Code"
   ]
  },
  {
   "cell_type": "code",
   "execution_count": 43,
   "metadata": {
    "collapsed": true
   },
   "outputs": [],
   "source": [
    "class RandomForest:\n",
    "    def __init__(self, dataSet, labels, numPoints, numTrees, stopCriterion, printer=False):\n",
    "        \"\"\"\n",
    "        Create a random forest classifier. Arguments are mostly same/self-explanatory. \n",
    "        numPoints: number of points to use in training (basically bootstrap aggregating)\n",
    "        \"\"\"\n",
    "        self.numTrees = numTrees\n",
    "        self.stopCriterion = stopCriterion\n",
    "        self.trees = []\n",
    "        self.dataSet = dataSet\n",
    "        self.labels = labels\n",
    "        self.numPoints = numPoints\n",
    "        \n",
    "        self.growTrees()\n",
    "        if printer:\n",
    "            print(\"Finished Random Forest with %s trees\" % (numTrees))\n",
    "    \n",
    "    def growTrees(self):\n",
    "        for i in range(self.numTrees):\n",
    "            selected = [int(self.labels.size * np.random.rand()) for j in range(self.numPoints)]\n",
    "            sliceData = self.dataSet.iloc[selected]\n",
    "            sliceLabels = self.labels.iloc[selected]\n",
    "            tree = DecisionTree(sliceData, sliceLabels, self.stopCriterion, 0, fselection=True)\n",
    "            self.trees.append(tree)\n",
    "    \n",
    "    def classifyPoint(self, point):\n",
    "        score = 0\n",
    "        for i in range(self.numTrees):\n",
    "            score += self.trees[i].classifyPoint(point)\n",
    "        return round(float(score) / self.numTrees)\n",
    "    \n",
    "    def score(self, data, labels):\n",
    "        score = 0\n",
    "        for i in range(labels.size):\n",
    "            res = self.classifyPoint(data.iloc[i])\n",
    "            if res == labels.iloc[i]:\n",
    "                score += 1\n",
    "        return float(score) / labels.size     "
   ]
  },
  {
   "cell_type": "markdown",
   "metadata": {},
   "source": [
    "## Try the Classifiers Out"
   ]
  },
  {
   "cell_type": "code",
   "execution_count": 39,
   "metadata": {
    "collapsed": false
   },
   "outputs": [
    {
     "name": "stderr",
     "output_type": "stream",
     "text": [
      "/Library/Frameworks/Python.framework/Versions/3.4/lib/python3.4/site-packages/ipykernel/__main__.py:23: RuntimeWarning: invalid value encountered in log\n"
     ]
    },
    {
     "name": "stdout",
     "output_type": "stream",
     "text": [
      "Training Score for Titanic with Decision Tree was 0.9299123904881101\n",
      "Training Score for Titanic with Random Forest was 0.8873591989987485\n",
      "***************\n",
      "Validation Score for Titanic with Decision Tree was 0.725\n",
      "Validation Score for Titanic with Random Forest was 0.74\n"
     ]
    }
   ],
   "source": [
    "def makeValSplits(data, labels):\n",
    "    indices = np.arange(labels.size)\n",
    "    np.random.shuffle(indices)\n",
    "    length = int(0.8 * indices.size)\n",
    "    return (data.iloc[indices[:length]], labels.iloc[indices[:length]],\n",
    "            data.iloc[indices[length:]], labels.iloc[indices[length:]])\n",
    "\n",
    "trainData, trainLabels, valData, valLabels = makeValSplits(titanicData, titanicLabels)\n",
    "tree = DecisionTree(trainData, trainLabels, ['depth', 12], 0)\n",
    "#print(\"***************\")\n",
    "forest = RandomForest(trainData, trainLabels, int(0.7 * trainLabels.size), 7, ['depth', 12])\n",
    "#print(\"***************\")\n",
    "print(\"Training Score for Titanic with Decision Tree was \" + str(tree.score(trainData, trainLabels)))\n",
    "print(\"Training Score for Titanic with Random Forest was \" + str(forest.score(trainData, trainLabels)))\n",
    "print(\"***************\")\n",
    "print(\"Validation Score for Titanic with Decision Tree was \" + str(tree.score(valData, valLabels)))\n",
    "print(\"Validation Score for Titanic with Random Forest was \" + str(forest.score(valData, valLabels)))"
   ]
  },
  {
   "cell_type": "markdown",
   "metadata": {
    "collapsed": true
   },
   "source": [
    "## Graph Accuracies as Function of Depth"
   ]
  },
  {
   "cell_type": "code",
   "execution_count": 33,
   "metadata": {
    "collapsed": false
   },
   "outputs": [
    {
     "name": "stdout",
     "output_type": "stream",
     "text": [
      "Finished making Decision Tree with criteria: ['depth', 0]\n"
     ]
    },
    {
     "name": "stderr",
     "output_type": "stream",
     "text": [
      "/Library/Frameworks/Python.framework/Versions/3.4/lib/python3.4/site-packages/ipykernel/__main__.py:23: RuntimeWarning: invalid value encountered in log\n"
     ]
    },
    {
     "name": "stdout",
     "output_type": "stream",
     "text": [
      "Finished making Decision Tree with criteria: ['depth', 1]\n",
      "Finished making Decision Tree with criteria: ['depth', 2]\n",
      "Finished making Decision Tree with criteria: ['depth', 3]\n",
      "Finished making Decision Tree with criteria: ['depth', 4]\n",
      "Finished making Decision Tree with criteria: ['depth', 5]\n",
      "Finished making Decision Tree with criteria: ['depth', 6]\n",
      "Finished making Decision Tree with criteria: ['depth', 7]\n",
      "Finished making Decision Tree with criteria: ['depth', 8]\n",
      "Finished making Decision Tree with criteria: ['depth', 9]\n",
      "Finished making Decision Tree with criteria: ['depth', 10]\n",
      "[0.609511889862328, 0.609511889862328, 0.6107634543178974, 0.6483103879849812, 0.6821026282853567, 0.6958698372966208, 0.7196495619524406, 0.753441802252816, 0.804755944931164, 0.867334167709637, 0.9036295369211514]\n",
      "[0.63, 0.63, 0.6, 0.59, 0.65, 0.615, 0.605, 0.64, 0.675, 0.715, 0.68]\n"
     ]
    },
    {
     "data": {
      "image/png": "[encoded data removed]",
      "text/plain": [
       "<matplotlib.figure.Figure at 0x10cf26588>"
      ]
     },
     "metadata": {},
     "output_type": "display_data"
    }
   ],
   "source": [
    "train_accuracies = []\n",
    "val_accuracies = []\n",
    "max_depth = 10\n",
    "for i in range(max_depth + 1):\n",
    "    new_tree = DecisionTree(trainData, trainLabels, ['depth', i], 0)\n",
    "    train_accuracies.append(new_tree.score(trainData, trainLabels))\n",
    "    val_accuracies.append(new_tree.score(valData, valLabels))\n",
    "\n",
    "plt.figure(figsize=[7,7])\n",
    "plt.plot(np.arange(max_depth + 1), train_accuracies, 'ro')\n",
    "plt.plot(np.arange(max_depth + 1), val_accuracies, 'bo')\n",
    "plt.title('Training/Validation Accuracy versus Tree Depth')\n",
    "plt.ylabel('Accuracy')\n",
    "plt.xlabel('Depth')\n",
    "plt.show()"
   ]
  },
  {
   "cell_type": "markdown",
   "metadata": {},
   "source": [
    "## Accuracies as a Function of Tree Count"
   ]
  },
  {
   "cell_type": "code",
   "execution_count": null,
   "metadata": {
    "collapsed": false
   },
   "outputs": [
    {
     "name": "stderr",
     "output_type": "stream",
     "text": [
      "/Library/Frameworks/Python.framework/Versions/3.4/lib/python3.4/site-packages/ipykernel/__main__.py:23: RuntimeWarning: invalid value encountered in log\n"
     ]
    },
    {
     "name": "stdout",
     "output_type": "stream",
     "text": [
      "Finished Random Forest with 1 trees\n",
      "Finished Random Forest with 3 trees\n",
      "Finished Random Forest with 5 trees\n"
     ]
    }
   ],
   "source": [
    "f_train_accuracies = []\n",
    "f_val_accuracies = []\n",
    "max_trees = 9\n",
    "for i in range(1, max_trees + 1, 2):\n",
    "    new_forest = RandomForest(trainData, trainLabels, int(0.7 * trainLabels.size), i, ['depth', 10], True)\n",
    "    f_train_accuracies.append(new_forest.score(trainData, trainLabels))\n",
    "    f_val_accuracies.append(new_forest.score(valData, valLabels))\n",
    "\n",
    "plt.figure(figsize=[7,7])\n",
    "plt.plot(np.arange(len(f_train_accuracies)), f_train_accuracies, 'ro')\n",
    "plt.plot(np.arange(len(f_train_accuracies)), f_val_accuracies, 'bo')\n",
    "plt.title('Training/Validation Accuracy versus Tree Count')\n",
    "plt.ylabel('Accuracy')\n",
    "plt.xlabel('Depth')\n",
    "plt.show()"
   ]
  },
  {
   "cell_type": "code",
   "execution_count": null,
   "metadata": {
    "collapsed": true
   },
   "outputs": [],
   "source": []
  }
 ],
 "metadata": {
  "kernelspec": {
   "display_name": "Python 3",
   "language": "python",
   "name": "python3"
  },
  "language_info": {
   "codemirror_mode": {
    "name": "ipython",
    "version": 3
   },
   "file_extension": ".py",
   "mimetype": "text/x-python",
   "name": "python",
   "nbconvert_exporter": "python",
   "pygments_lexer": "ipython3",
   "version": "3.4.3"
  }
 },
 "nbformat": 4,
 "nbformat_minor": 2
}
