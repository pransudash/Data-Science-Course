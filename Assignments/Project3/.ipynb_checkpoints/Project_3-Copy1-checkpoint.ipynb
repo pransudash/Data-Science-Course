{
 "cells": [
  {
   "cell_type": "code",
   "execution_count": 2,
   "metadata": {},
   "outputs": [
    {
     "name": "stderr",
     "output_type": "stream",
     "text": [
      "Using TensorFlow backend.\n"
     ]
    }
   ],
   "source": [
    "import keras\n",
    "import numpy as np\n",
    "import os\n",
    "import matplotlib.pyplot as plt\n",
    "from scipy import misc\n",
    "from keras.models import Model, Sequential\n",
    "from keras.layers import Dense, Activation, Flatten, Dropout\n",
    "import pickle\n",
    "%matplotlib inline"
   ]
  },
  {
   "cell_type": "code",
   "execution_count": 3,
   "metadata": {
    "collapsed": true
   },
   "outputs": [],
   "source": [
    "test_img_fnames = os.listdir('/root/Downloads/data/data/test')\n",
    "train_img_fnames = os.listdir('/root/Downloads/data/data/train')"
   ]
  },
  {
   "cell_type": "markdown",
   "metadata": {},
   "source": [
    "# Load in the data\n",
    "First we need to write a function to load into memory each of the images, and then resize them to (224, 224, 3). scipy.misc.imread and scipy.misc.imresize will be useful for this. You should also rescale the images so that they are on a scale of 0 to 1, meaning each pixel value should be between 0 and 1. This can be achieved by dividing by an appropriate constant."
   ]
  },
  {
   "cell_type": "code",
   "execution_count": 4,
   "metadata": {
    "collapsed": true
   },
   "outputs": [],
   "source": [
    "def load_img(filename):\n",
    "    img = misc.imread(filename)\n",
    "    img = misc.imresize(img, (224,224,3))\n",
    "    img = img/np.amax(img)\n",
    "    return img"
   ]
  },
  {
   "cell_type": "code",
   "execution_count": 5,
   "metadata": {
    "collapsed": true
   },
   "outputs": [],
   "source": [
    "test_imgs = [load_img(os.path.join('/root/Downloads/data/data/test', fname)) for fname in test_img_fnames]\n",
    "test_imgs = np.stack(test_imgs)"
   ]
  },
  {
   "cell_type": "code",
   "execution_count": 5,
   "metadata": {
    "collapsed": true
   },
   "outputs": [],
   "source": [
    "train_imgs = [load_img(os.path.join('/root/Downloads/data/data/train', fname)) for fname in train_img_fnames[:2500]]\n",
    "train_imgs = np.stack(train_imgs)"
   ]
  },
  {
   "cell_type": "code",
   "execution_count": 6,
   "metadata": {
    "collapsed": true
   },
   "outputs": [],
   "source": [
    "with open('/root/Downloads/data/data/train_labels.pkl', 'rb') as f:\n",
    "    train_labels = pickle.load(f)"
   ]
  },
  {
   "cell_type": "markdown",
   "metadata": {},
   "source": [
    "# Load featurizations"
   ]
  },
  {
   "cell_type": "code",
   "execution_count": 7,
   "metadata": {
    "collapsed": true
   },
   "outputs": [],
   "source": [
    "import pickle\n",
    "with open('/root/Downloads/data/featurized_train_imgs.pkl', 'rb') as f:\n",
    "    featurized_training_data = pickle.load(f)\n",
    "with open('/root/Downloads/data/featurized_test_imgs.pkl', 'rb') as f:\n",
    "    featurized_test_data = pickle.load(f)"
   ]
  },
  {
   "cell_type": "markdown",
   "metadata": {},
   "source": [
    "# Create your network\n",
    "Now we need to create a network to take in the featurizations and output a label of dog or not dog. To do this you should use Keras' Sequential model. We will need to flatten our (7,7,512) feature input into a vector (HINT: lookup flatten in keras documentation) and then add a Dense layer with some number of neurons (play around with the number of neurons to improve your performance). Then finally we need a Dense layer with 1 neuron and a sigmoid activation to represent our label output. You might want to use more or less model.add calls than have been provided"
   ]
  },
  {
   "cell_type": "code",
   "execution_count": 9,
   "metadata": {},
   "outputs": [
    {
     "name": "stdout",
     "output_type": "stream",
     "text": [
      "Epoch 1/50\n",
      "10000/10000 [==============================] - 48s - loss: 2.2342 - acc: 0.7349    \n",
      "Epoch 2/50\n",
      "10000/10000 [==============================] - 44s - loss: 0.3214 - acc: 0.8726    \n",
      "Epoch 3/50\n",
      "10000/10000 [==============================] - 45s - loss: 0.3227 - acc: 0.8840    \n",
      "Epoch 4/50\n",
      "10000/10000 [==============================] - 44s - loss: 0.3517 - acc: 0.8933    \n",
      "Epoch 5/50\n",
      "10000/10000 [==============================] - 46s - loss: 0.4337 - acc: 0.8907    \n",
      "Epoch 6/50\n",
      "10000/10000 [==============================] - 47s - loss: 0.4536 - acc: 0.9016    \n",
      "Epoch 7/50\n",
      "10000/10000 [==============================] - 51s - loss: 0.4577 - acc: 0.9075    \n",
      "Epoch 8/50\n",
      "10000/10000 [==============================] - 50s - loss: 0.4948 - acc: 0.9118    \n",
      "Epoch 9/50\n",
      "10000/10000 [==============================] - 47s - loss: 0.5003 - acc: 0.9200    \n",
      "Epoch 10/50\n",
      "10000/10000 [==============================] - 44s - loss: 0.5289 - acc: 0.9254    \n",
      "Epoch 11/50\n",
      "10000/10000 [==============================] - 49s - loss: 0.5445 - acc: 0.9287    \n",
      "Epoch 12/50\n",
      "10000/10000 [==============================] - 47s - loss: 0.5305 - acc: 0.9333    \n",
      "Epoch 13/50\n",
      "10000/10000 [==============================] - 46s - loss: 0.5615 - acc: 0.9323    \n",
      "Epoch 14/50\n",
      "10000/10000 [==============================] - 47s - loss: 0.5497 - acc: 0.9402    \n",
      "Epoch 15/50\n",
      "10000/10000 [==============================] - 46s - loss: 0.5855 - acc: 0.9361    \n",
      "Epoch 16/50\n",
      "10000/10000 [==============================] - 47s - loss: 0.6338 - acc: 0.9392    \n",
      "Epoch 17/50\n",
      "10000/10000 [==============================] - 45s - loss: 0.6161 - acc: 0.9396    \n",
      "Epoch 18/50\n",
      "10000/10000 [==============================] - 46s - loss: 0.6546 - acc: 0.9383    \n",
      "Epoch 19/50\n",
      "10000/10000 [==============================] - 46s - loss: 0.5826 - acc: 0.9481    \n",
      "Epoch 20/50\n",
      "10000/10000 [==============================] - 45s - loss: 0.6569 - acc: 0.9433    \n",
      "Epoch 21/50\n",
      "10000/10000 [==============================] - 46s - loss: 0.6212 - acc: 0.9465    \n",
      "Epoch 22/50\n",
      "10000/10000 [==============================] - 49s - loss: 0.6432 - acc: 0.9442    \n",
      "Epoch 23/50\n",
      "10000/10000 [==============================] - 47s - loss: 0.6624 - acc: 0.9466    \n",
      "Epoch 24/50\n",
      "10000/10000 [==============================] - 46s - loss: 0.6802 - acc: 0.9439    \n",
      "Epoch 25/50\n",
      "10000/10000 [==============================] - 46s - loss: 0.6638 - acc: 0.9457    \n",
      "Epoch 26/50\n",
      "10000/10000 [==============================] - 45s - loss: 0.6965 - acc: 0.9451    \n",
      "Epoch 27/50\n",
      "10000/10000 [==============================] - 45s - loss: 0.6910 - acc: 0.9469    \n",
      "Epoch 28/50\n",
      "10000/10000 [==============================] - 45s - loss: 0.6734 - acc: 0.9481    \n",
      "Epoch 29/50\n",
      "10000/10000 [==============================] - 45s - loss: 0.7448 - acc: 0.9450    \n",
      "Epoch 30/50\n",
      "10000/10000 [==============================] - 46s - loss: 0.8150 - acc: 0.9407    \n",
      "Epoch 31/50\n",
      "10000/10000 [==============================] - 35s - loss: 0.7076 - acc: 0.9456    \n",
      "Epoch 32/50\n",
      "10000/10000 [==============================] - 27s - loss: 0.7809 - acc: 0.9434    \n",
      "Epoch 33/50\n",
      "10000/10000 [==============================] - 27s - loss: 0.6941 - acc: 0.9491    \n",
      "Epoch 34/50\n",
      "10000/10000 [==============================] - 27s - loss: 0.7855 - acc: 0.9444    \n",
      "Epoch 35/50\n",
      "10000/10000 [==============================] - 27s - loss: 0.7278 - acc: 0.9471    \n",
      "Epoch 36/50\n",
      "10000/10000 [==============================] - 27s - loss: 0.7239 - acc: 0.9489    \n",
      "Epoch 37/50\n",
      "10000/10000 [==============================] - 27s - loss: 0.7503 - acc: 0.9476    \n",
      "Epoch 38/50\n",
      "10000/10000 [==============================] - 27s - loss: 0.7762 - acc: 0.9447    \n",
      "Epoch 39/50\n",
      "10000/10000 [==============================] - 27s - loss: 0.8283 - acc: 0.9424    \n",
      "Epoch 40/50\n",
      "10000/10000 [==============================] - 27s - loss: 0.8214 - acc: 0.9423    \n",
      "Epoch 41/50\n",
      "10000/10000 [==============================] - 27s - loss: 0.7886 - acc: 0.9462    \n",
      "Epoch 42/50\n",
      "10000/10000 [==============================] - 27s - loss: 0.8274 - acc: 0.9430    \n",
      "Epoch 43/50\n",
      "10000/10000 [==============================] - 27s - loss: 0.6963 - acc: 0.9502    \n",
      "Epoch 44/50\n",
      "10000/10000 [==============================] - 25s - loss: 0.7424 - acc: 0.9472    \n",
      "Epoch 45/50\n",
      "10000/10000 [==============================] - 24s - loss: 0.7359 - acc: 0.9478    \n",
      "Epoch 46/50\n",
      "10000/10000 [==============================] - 505s - loss: 0.6853 - acc: 0.9523   \n",
      "Epoch 47/50\n",
      "10000/10000 [==============================] - 32s - loss: 0.7883 - acc: 0.9451    \n",
      "Epoch 48/50\n",
      "10000/10000 [==============================] - 30s - loss: 0.8288 - acc: 0.9431    \n",
      "Epoch 49/50\n",
      "10000/10000 [==============================] - 28s - loss: 0.8484 - acc: 0.9423    \n",
      "Epoch 50/50\n",
      "10000/10000 [==============================] - 29s - loss: 0.7055 - acc: 0.9506    \n"
     ]
    },
    {
     "data": {
      "text/plain": [
       "<keras.callbacks.History at 0x7fcc3cce7978>"
      ]
     },
     "execution_count": 9,
     "metadata": {},
     "output_type": "execute_result"
    }
   ],
   "source": [
    "model = Sequential()\n",
    "model.add(Flatten(input_shape=featurized_training_data.shape[1:]))\n",
    "model.add(Dense(256, activation='relu'))\n",
    "model.add(Dropout(0.5))\n",
    "model.add(Dense(1, activation='sigmoid'))"
   ]
  },
  {
   "cell_type": "code",
   "execution_count": 59,
   "metadata": {},
   "outputs": [
    {
     "name": "stdout",
     "output_type": "stream",
     "text": [
      "_________________________________________________________________\n",
      "Layer (type)                 Output Shape              Param #   \n",
      "=================================================================\n",
      "conv2d_4 (Conv2D)            (None, 222, 222, 32)      896       \n",
      "_________________________________________________________________\n",
      "activation_10 (Activation)   (None, 222, 222, 32)      0         \n",
      "_________________________________________________________________\n",
      "max_pooling2d_7 (MaxPooling2 (None, 111, 111, 32)      0         \n",
      "_________________________________________________________________\n",
      "conv2d_5 (Conv2D)            (None, 109, 109, 32)      9248      \n",
      "_________________________________________________________________\n",
      "activation_11 (Activation)   (None, 109, 109, 32)      0         \n",
      "_________________________________________________________________\n",
      "max_pooling2d_8 (MaxPooling2 (None, 54, 54, 32)        0         \n",
      "_________________________________________________________________\n",
      "conv2d_6 (Conv2D)            (None, 52, 52, 64)        18496     \n",
      "_________________________________________________________________\n",
      "activation_12 (Activation)   (None, 52, 52, 64)        0         \n",
      "_________________________________________________________________\n",
      "max_pooling2d_9 (MaxPooling2 (None, 26, 26, 64)        0         \n",
      "_________________________________________________________________\n",
      "flatten_10 (Flatten)         (None, 43264)             0         \n",
      "_________________________________________________________________\n",
      "dense_15 (Dense)             (None, 64)                2768960   \n",
      "_________________________________________________________________\n",
      "activation_13 (Activation)   (None, 64)                0         \n",
      "_________________________________________________________________\n",
      "dropout_1 (Dropout)          (None, 64)                0         \n",
      "_________________________________________________________________\n",
      "dense_16 (Dense)             (None, 1)                 65        \n",
      "_________________________________________________________________\n",
      "activation_14 (Activation)   (None, 1)                 0         \n",
      "=================================================================\n",
      "Total params: 2,797,665\n",
      "Trainable params: 2,797,665\n",
      "Non-trainable params: 0\n",
      "_________________________________________________________________\n"
     ]
    }
   ],
   "source": [
    "model.summary()"
   ]
  },
  {
   "cell_type": "markdown",
   "metadata": {},
   "source": [
    "# Now we need to train the network\n",
    "You need to compile the model first, and then use the fit function. You should use binary crossentropy as your loss."
   ]
  },
  {
   "cell_type": "code",
   "execution_count": 60,
   "metadata": {
    "collapsed": true
   },
   "outputs": [],
   "source": [
    "model.compile(optimizer='rmsprop', loss='binary_crossentropy', metrics=['accuracy'])"
   ]
  },
  {
   "cell_type": "code",
   "execution_count": null,
   "metadata": {},
   "outputs": [
    {
     "name": "stdout",
     "output_type": "stream",
     "text": [
      "Epoch 1/10\n",
      "2500/2500 [==============================] - 160s - loss: 0.7455 - acc: 0.5096   \n",
      "Epoch 2/10\n",
      "2500/2500 [==============================] - 156s - loss: 0.7011 - acc: 0.5036   \n",
      "Epoch 3/10\n",
      "1440/2500 [================>.............] - ETA: 65s - loss: 0.7024 - acc: 0.5090"
     ]
    }
   ],
   "source": [
    "model.fit(featurized_training_data, train_labels, epochs=50)"
   ]
  },
  {
   "cell_type": "markdown",
   "metadata": {},
   "source": [
    "Now we need to predict labels for the test set and output it to file. Use keras predict for this. Remember that the predictions are real values between 0 and 1 and you should be outputting just 0 or 1, not a value between."
   ]
  },
  {
   "cell_type": "code",
   "execution_count": 10,
   "metadata": {
    "collapsed": true
   },
   "outputs": [],
   "source": [
    "predictions = model.predict(featurized_test_data)"
   ]
  },
  {
   "cell_type": "code",
   "execution_count": 11,
   "metadata": {
    "collapsed": true
   },
   "outputs": [],
   "source": [
    "with open('/root/Downloads/data/test_labels.txt', 'w') as f:\n",
    "    f.write(\"Id,Label\\n\")\n",
    "    for i, val in enumerate(predictions):\n",
    "        prediction = int(np.round(predictions[i]))\n",
    "        f.write(str(i))\n",
    "        f.write(',')\n",
    "        f.write(str(prediction))\n",
    "        f.write('\\n')"
   ]
  },
  {
   "cell_type": "markdown",
   "metadata": {},
   "source": [
    "# Part 2"
   ]
  },
  {
   "cell_type": "code",
   "execution_count": 13,
   "metadata": {
    "collapsed": true
   },
   "outputs": [],
   "source": [
    "from sklearn.decomposition import PCA"
   ]
  },
  {
   "cell_type": "markdown",
   "metadata": {},
   "source": [
    "Now we want to run PCA on our images and our featurizations to see the difference. To save time we will just run it on the first 500 images. Take the first 500 images and 500 featurizations and reshape them into shape (500, x)."
   ]
  },
  {
   "cell_type": "code",
   "execution_count": 27,
   "metadata": {
    "collapsed": true
   },
   "outputs": [],
   "source": [
    "original_imgs = test_imgs[:500].reshape((500,150528))\n",
    "featurized = featurized_test_data[:500].reshape((500,25088))"
   ]
  },
  {
   "cell_type": "markdown",
   "metadata": {},
   "source": [
    "Run PCA with 2 components on the original images"
   ]
  },
  {
   "cell_type": "code",
   "execution_count": 28,
   "metadata": {
    "collapsed": true
   },
   "outputs": [],
   "source": [
    "pca_orig = PCA(n_components = 2).fit(original_imgs)"
   ]
  },
  {
   "cell_type": "markdown",
   "metadata": {},
   "source": [
    "Run PCA with 2 components on the featurizations"
   ]
  },
  {
   "cell_type": "code",
   "execution_count": 29,
   "metadata": {
    "collapsed": true
   },
   "outputs": [],
   "source": [
    "pca_featurized = PCA(n_components = 2).fit(featurized)"
   ]
  },
  {
   "cell_type": "markdown",
   "metadata": {},
   "source": [
    "Project the original images and featurizations onto the 2 principal components. (HINT: look at the PCA.transform function)"
   ]
  },
  {
   "cell_type": "code",
   "execution_count": 33,
   "metadata": {
    "collapsed": true
   },
   "outputs": [],
   "source": [
    "projected_orig_imgs = pca_orig.transform(original_imgs)\n",
    "projected_featurized = pca_featurized.transform(featurized)"
   ]
  },
  {
   "cell_type": "markdown",
   "metadata": {},
   "source": [
    "Find the indices of the labels that are cats and the indices that are dogs. np.where will make this very easy"
   ]
  },
  {
   "cell_type": "code",
   "execution_count": 41,
   "metadata": {
    "collapsed": true
   },
   "outputs": [],
   "source": [
    "labels = train_labels[:500]\n",
    "cat_inds = np.where(labels == 1)\n",
    "dog_inds = np.where(labels == 0)"
   ]
  },
  {
   "cell_type": "markdown",
   "metadata": {},
   "source": [
    "Plot the PCA of the original images and the PCA of the featurization"
   ]
  },
  {
   "cell_type": "code",
   "execution_count": 42,
   "metadata": {},
   "outputs": [
    {
     "data": {
      "text/plain": [
       "<matplotlib.collections.PathCollection at 0x7fcb7a6fae10>"
      ]
     },
     "execution_count": 42,
     "metadata": {},
     "output_type": "execute_result"
    },
    {
     "data": {
      "image/png": "[encoded data removed]",
      "text/plain": [
       "<matplotlib.figure.Figure at 0x7fcc7c3f3128>"
      ]
     },
     "metadata": {},
     "output_type": "display_data"
    }
   ],
   "source": [
    "plt.scatter(projected_orig_imgs[cat_inds ,0], projected_orig_imgs[cat_inds, 1], c='red')\n",
    "plt.scatter(projected_orig_imgs[dog_inds, 0], projected_orig_imgs[dog_inds, 1], c='green')"
   ]
  },
  {
   "cell_type": "code",
   "execution_count": 43,
   "metadata": {},
   "outputs": [
    {
     "data": {
      "text/plain": [
       "<matplotlib.collections.PathCollection at 0x7fcb7a627c18>"
      ]
     },
     "execution_count": 43,
     "metadata": {},
     "output_type": "execute_result"
    },
    {
     "data": {
      "image/png": "[encoded data removed]",
      "text/plain": [
       "<matplotlib.figure.Figure at 0x7fcb80059fd0>"
      ]
     },
     "metadata": {},
     "output_type": "display_data"
    }
   ],
   "source": [
    "plt.scatter(projected_featurized[cat_inds ,0], projected_featurized[cat_inds, 1], c='red')\n",
    "plt.scatter(projected_featurized[dog_inds, 0], projected_featurized[dog_inds, 1], c='green')"
   ]
  },
  {
   "cell_type": "code",
   "execution_count": null,
   "metadata": {
    "collapsed": true
   },
   "outputs": [],
   "source": []
  }
 ],
 "metadata": {
  "kernelspec": {
   "display_name": "Python 3",
   "language": "python",
   "name": "python3"
  },
  "language_info": {
   "codemirror_mode": {
    "name": "ipython",
    "version": 3
   },
   "file_extension": ".py",
   "mimetype": "text/x-python",
   "name": "python",
   "nbconvert_exporter": "python",
   "pygments_lexer": "ipython3",
   "version": "3.6.1"
  }
 },
 "nbformat": 4,
 "nbformat_minor": 2
}
