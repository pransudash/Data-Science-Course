{
 "cells": [
  {
   "cell_type": "markdown",
   "metadata": {},
   "source": [
    "# Homework 2"
   ]
  },
  {
   "cell_type": "code",
   "execution_count": 2,
   "metadata": {
    "collapsed": true
   },
   "outputs": [],
   "source": [
    "import numpy as np\n",
    "import pandas as pd\n",
    "from sklearn.svm import SVC\n",
    "import matplotlib.pyplot as plt\n",
    "%matplotlib inline"
   ]
  },
  {
   "cell_type": "markdown",
   "metadata": {},
   "source": [
    "## Not Quite Plug and Chug"
   ]
  },
  {
   "cell_type": "code",
   "execution_count": 3,
   "metadata": {},
   "outputs": [
    {
     "name": "stdout",
     "output_type": "stream",
     "text": [
      "(999, 3) (999, 1) (2999, 3) (2999, 1)\n"
     ]
    }
   ],
   "source": [
    "# Split test and train data into X and y\n",
    "train_file = \"training.csv\"\n",
    "test_file = \"test.csv\"\n",
    "\n",
    "df_train = pd.read_csv(train_file)\n",
    "df_test = pd.read_csv(test_file)\n",
    "\n",
    "train_x = df_train.drop(df_train.columns[3], axis=1)\n",
    "train_y = df_train.drop(df_train.columns[0:3], axis=1)\n",
    "test_x = df_test.drop(df_test.columns[3], axis=1)\n",
    "test_y = df_test.drop(df_test.columns[0:3], axis=1)\n",
    "\n",
    "print(train_x.shape, train_y.shape, test_x.shape, test_y.shape)"
   ]
  },
  {
   "cell_type": "code",
   "execution_count": 4,
   "metadata": {},
   "outputs": [
    {
     "name": "stderr",
     "output_type": "stream",
     "text": [
      "/Users/pdash/anaconda/lib/python3.6/site-packages/sklearn/utils/validation.py:526: DataConversionWarning: A column-vector y was passed when a 1d array was expected. Please change the shape of y to (n_samples, ), for example using ravel().\n",
      "  y = column_or_1d(y, warn=True)\n"
     ]
    },
    {
     "name": "stdout",
     "output_type": "stream",
     "text": [
      "[[ 0.08908909  0.08908909  0.08908909  0.08908909]\n",
      " [ 0.08908909  0.08908909  0.08908909  0.08908909]\n",
      " [ 0.08908909  0.08908909  0.08908909  0.08908909]\n",
      " [ 0.08908909  0.08908909  0.08908909  0.08908909]\n",
      " [ 0.02002002  0.02002002  0.02002002  0.02002002]]\n",
      "[[ 0.44148049  0.44148049  0.44148049  0.44148049]\n",
      " [ 0.44148049  0.44148049  0.44148049  0.44148049]\n",
      " [ 0.44148049  0.44148049  0.44148049  0.44148049]\n",
      " [ 0.44148049  0.44148049  0.44148049  0.44148049]\n",
      " [ 0.44114705  0.44114705  0.44114705  0.44114705]]\n"
     ]
    },
    {
     "data": {
      "image/png": "[encoded data removed]",
      "text/plain": [
       "<matplotlib.figure.Figure at 0x1143bd5c0>"
      ]
     },
     "metadata": {},
     "output_type": "display_data"
    },
    {
     "data": {
      "image/png": "[encoded data removed]",
      "text/plain": [
       "<matplotlib.figure.Figure at 0x110bee080>"
      ]
     },
     "metadata": {},
     "output_type": "display_data"
    }
   ],
   "source": [
    "C = [0.0001, 0.001, 0.01, 0.1, 1]\n",
    "d = [1, 2, 3, 10]\n",
    "error_test = np.zeros((5, 4))\n",
    "error_train = np.zeros((5, 4))\n",
    "\n",
    "for i in range(len(C)):\n",
    "    for j in range(len(d)):\n",
    "        svm = SVC(C=C[i], degree=d[j])\n",
    "        svm.fit(train_x, train_y)\n",
    "        error_train[i][j] = 1 - svm.score(train_x, train_y)\n",
    "        error_test[i][j] = 1 - svm.score(test_x, test_y)\n",
    "\n",
    "print(error_train)\n",
    "print(error_test)\n",
    "\n",
    "plt.imshow(error_train, cmap='gray', interpolation='none')\n",
    "plt.show()\n",
    "plt.imshow(error_test, cmap='gray', interpolation='none')\n",
    "plt.show()"
   ]
  },
  {
   "cell_type": "markdown",
   "metadata": {},
   "source": [
    "### On what basis would you decide that a hyperparameter setting is optimal? Which setting of (C, d) gave the optimal results?\n",
    "#### I chose to define optimal as the settings that produced the least error in both test and training sets. In this case, the optimal setting was (C = 1, d = [1, 2, 3, or 5])\n",
    "\n",
    "### You’ll notice that between C and d, one factor mattered far more than the other. What can you conclude about the structure of the datasets and how they were generated?\n",
    "#### It appears that C was far more important for this data because the real change in the error rates came after a change in C from 0.1 to 1. This suggests that there are not many misclassified points in our model since the penalty that resulted with the lowest error was C=1. This could mean that the data has a smaller margin between the linear separator and the points are packed close together. Also shown in the data, changing the degree of the polynomial did not affect the results which means that the data is constructed to fit these degree shapes.\n",
    "\n",
    "### With as much granularity as possible, which hyperparameter settings are underfitting and which are overfitting? What allows you to make this claim?\n",
    "#### The lower values of C's are underfitting while d is overfitting. This is because the value of C with the lowest error is the default 1. Also, the value of d did not have any effect."
   ]
  },
  {
   "cell_type": "markdown",
   "metadata": {
    "collapsed": true
   },
   "source": [
    "## K-Fold Cross Validation"
   ]
  },
  {
   "cell_type": "code",
   "execution_count": 8,
   "metadata": {},
   "outputs": [
    {
     "name": "stdout",
     "output_type": "stream",
     "text": [
      "gamma:  0.001\n",
      "scores:  [Decimal('0.091'), Decimal('0.091'), Decimal('0.091'), Decimal('0.091'), Decimal('0.091'), Decimal('0.085'), Decimal('0.085')]\n",
      "gamma:  0.01\n",
      "scores:  [Decimal('0.042'), Decimal('0.070'), Decimal('0.049'), Decimal('0.042'), Decimal('0.056'), Decimal('0.035'), Decimal('0.035')]\n",
      "gamma:  0.1\n",
      "scores:  [Decimal('0.035'), Decimal('0.056'), Decimal('0.007'), Decimal('0.049'), Decimal('0.035'), Decimal('0.021'), Decimal('0.028')]\n",
      "gamma:  1\n",
      "scores:  [Decimal('0.049'), Decimal('0.063'), Decimal('0.035'), Decimal('0.063'), Decimal('0.042'), Decimal('0.042'), Decimal('0.028')]\n",
      "gamma:  10\n",
      "scores:  [Decimal('0.091'), Decimal('0.091'), Decimal('0.084'), Decimal('0.091'), Decimal('0.091'), Decimal('0.077'), Decimal('0.077')]\n",
      "gamma:  100\n",
      "scores:  [Decimal('0.091'), Decimal('0.091'), Decimal('0.091'), Decimal('0.091'), Decimal('0.091'), Decimal('0.085'), Decimal('0.085')]\n",
      "gamma:  1000\n",
      "scores:  [Decimal('0.091'), Decimal('0.091'), Decimal('0.091'), Decimal('0.091'), Decimal('0.091'), Decimal('0.085'), Decimal('0.085')]\n"
     ]
    }
   ],
   "source": [
    "from sklearn.model_selection import cross_val_score\n",
    "\n",
    "gammas = [0.001, 0.01, 0.1, 1, 10, 100, 1000]\n",
    "results = []\n",
    "train_y = np.ravel(train_y)\n",
    "for gamma in gammas:\n",
    "    svm = SVC(kernel='rbf', gamma=gamma)\n",
    "    scores = cross_val_score(svm, train_x, train_y, cv=7)\n",
    "    scores\n",
    "    results.append([round(1 - score, 3) for score in scores])\n",
    "\n",
    "for i in range(len(gammas)):\n",
    "    print(\"gamma: \", gammas[i])\n",
    "    print(\"scores: \", results[i])"
   ]
  },
  {
   "cell_type": "code",
   "execution_count": null,
   "metadata": {
    "collapsed": true
   },
   "outputs": [],
   "source": []
  }
 ],
 "metadata": {
  "kernelspec": {
   "display_name": "Python 3",
   "language": "python",
   "name": "python3"
  },
  "language_info": {
   "codemirror_mode": {
    "name": "ipython",
    "version": 3
   },
   "file_extension": ".py",
   "mimetype": "text/x-python",
   "name": "python",
   "nbconvert_exporter": "python",
   "pygments_lexer": "ipython3",
   "version": "3.6.1"
  }
 },
 "nbformat": 4,
 "nbformat_minor": 2
}
