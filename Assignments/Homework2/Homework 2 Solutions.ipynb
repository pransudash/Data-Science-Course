{
 "cells": [
  {
   "cell_type": "markdown",
   "metadata": {},
   "source": [
    "# Question 1: Not Quite Plug and Chug"
   ]
  },
  {
   "cell_type": "code",
   "execution_count": 31,
   "metadata": {
    "collapsed": false
   },
   "outputs": [],
   "source": [
    "import numpy as np \n",
    "from sklearn.svm import SVC\n",
    "import matplotlib.pyplot as plt\n",
    "import pandas as pd\n",
    "import seaborn as sns\n",
    "\n",
    "training = np.loadtxt('training.csv', delimiter=',')\n",
    "test = np.loadtxt('test.csv', delimiter=',')\n",
    "\n",
    "training_data = training[:, :3]\n",
    "training_labels = training[:, 3]\n",
    "\n",
    "test_data = test[:, :3]\n",
    "test_labels = test[:, 3]"
   ]
  },
  {
   "cell_type": "code",
   "execution_count": 7,
   "metadata": {
    "collapsed": false
   },
   "outputs": [],
   "source": [
    "degrees = [1, 2, 3, 5]\n",
    "Cs = [1e-4, 1e-3, 1e-2, 1e-1, 1]\n",
    "\n",
    "train_results = np.zeros((4, 5))\n",
    "test_results = np.zeros((4, 5))\n",
    "\n",
    "for i, d in enumerate(degrees):\n",
    "    for j, c in enumerate(Cs):\n",
    "        model = SVC(C=c, kernel='poly', degree=d)\n",
    "        model.fit(training_data, training_labels)\n",
    "        training_error = 1 - model.score(training_data, training_labels)\n",
    "        test_error = 1 - model.score(test_data, test_labels)\n",
    "        \n",
    "        train_results[i, j] = training_error\n",
    "        test_results[i, j] = test_error"
   ]
  },
  {
   "cell_type": "code",
   "execution_count": 38,
   "metadata": {
    "collapsed": false
   },
   "outputs": [
    {
     "data": {
      "image/png": "[encoded data removed]",
      "text/plain": [
       "<matplotlib.figure.Figure at 0x10b5e3470>"
      ]
     },
     "metadata": {},
     "output_type": "display_data"
    },
    {
     "data": {
      "image/png": "[encoded data removed]",
      "text/plain": [
       "<matplotlib.figure.Figure at 0x10bc85898>"
      ]
     },
     "metadata": {},
     "output_type": "display_data"
    }
   ],
   "source": [
    "train_results_df = pd.DataFrame(train_results, index=degrees, columns=Cs)\n",
    "test_results_df = pd.DataFrame(test_results, index=degrees, columns=Cs)\n",
    "\n",
    "fig, ax = plt.subplots(figsize=(9, 7))\n",
    "ax = sns.heatmap(train_results_df)\n",
    "plt.title(\"Training Error for Hyperparameter Settings\")\n",
    "plt.show()\n",
    "\n",
    "fig, ax = plt.subplots(figsize=(9, 7))\n",
    "plt.title(\"Test Error for Hyperparameter Settings\")\n",
    "ax = sns.heatmap(test_results_df)\n",
    "plt.show()"
   ]
  },
  {
   "cell_type": "markdown",
   "metadata": {},
   "source": [
    "## Analysis\n",
    "#### On what basis would you decide that a hyperparameter setting is optimal? Which setting of (C, d) gave the optimal results?\n",
    "The ultimate point of the algorithm is to generalize to a set of data that it was not trained on. Hence, the optimal hyperparameter setting is that which gives the lowest generalization error, i.e. test error. We see that the setting  ```(C=1, d=3)``` gives us the lowest test error. Note that this is different from the best training error which is achieved with ```(C=1, d=5)```!\n",
    "\n",
    "#### You’ll notice that between C and d, one factor mattered far more than the other. What can you conclude about the structure of the datasets and how they were generated?\n",
    "```d``` mattered more than ```C```. In fact, the training dataset was generated by sampling from a predefined cubic function on the interval ```[-5, 5]```. The test set was then sampled from the same function but on the interval ```[-50, 50]```. Predictably, the degree of the kernel SVM makes the biggest difference on this.\n",
    "\n",
    "#### With as much granularity as possible, which hyperparameter settings are underfitting and which are overfitting? What allows you to make this claim?\n",
    "All of the models with ```d=1, 2``` were underfitting. With worse settings of ```C``` those models were underfitting even more. With ```d=5```, the models were all overfitting. You can see this because training error continued to decrease, but test error increases with better values of ```C```. Furthermore, training error is better than that of ```d=3``` but test error was worse than that of ```d=3```.\n"
   ]
  },
  {
   "cell_type": "markdown",
   "metadata": {},
   "source": [
    "# K-Fold Cross-Validation"
   ]
  },
  {
   "cell_type": "code",
   "execution_count": 48,
   "metadata": {
    "collapsed": false
   },
   "outputs": [
    {
     "data": {
      "text/html": [
       "<div>\n",
       "<table border=\"1\" class=\"dataframe\">\n",
       "  <thead>\n",
       "    <tr style=\"text-align: right;\">\n",
       "      <th></th>\n",
       "      <th>gamma</th>\n",
       "      <th>CV error</th>\n",
       "    </tr>\n",
       "  </thead>\n",
       "  <tbody>\n",
       "    <tr>\n",
       "      <th>0</th>\n",
       "      <td>0.001</td>\n",
       "      <td>0.062937</td>\n",
       "    </tr>\n",
       "    <tr>\n",
       "      <th>1</th>\n",
       "      <td>0.010</td>\n",
       "      <td>0.076923</td>\n",
       "    </tr>\n",
       "    <tr>\n",
       "      <th>2</th>\n",
       "      <td>0.100</td>\n",
       "      <td>0.034965</td>\n",
       "    </tr>\n",
       "    <tr>\n",
       "      <th>3</th>\n",
       "      <td>1.000</td>\n",
       "      <td>0.062937</td>\n",
       "    </tr>\n",
       "    <tr>\n",
       "      <th>4</th>\n",
       "      <td>10.000</td>\n",
       "      <td>0.097902</td>\n",
       "    </tr>\n",
       "    <tr>\n",
       "      <th>5</th>\n",
       "      <td>100.000</td>\n",
       "      <td>0.090909</td>\n",
       "    </tr>\n",
       "    <tr>\n",
       "      <th>6</th>\n",
       "      <td>1000.000</td>\n",
       "      <td>0.119718</td>\n",
       "    </tr>\n",
       "  </tbody>\n",
       "</table>\n",
       "</div>"
      ],
      "text/plain": [
       "      gamma  CV error\n",
       "0     0.001  0.062937\n",
       "1     0.010  0.076923\n",
       "2     0.100  0.034965\n",
       "3     1.000  0.062937\n",
       "4    10.000  0.097902\n",
       "5   100.000  0.090909\n",
       "6  1000.000  0.119718"
      ]
     },
     "execution_count": 48,
     "metadata": {},
     "output_type": "execute_result"
    }
   ],
   "source": [
    "from sklearn.model_selection import KFold\n",
    "gammas = [1e-3, 1e-2, 1e-1, 1, 1e1, 1e2, 1e3]\n",
    "errors = []\n",
    "\n",
    "kf = KFold(n_splits=7)\n",
    "for i, (train_inds, test_inds) in enumerate(kf.split(training_data, training_labels)):\n",
    "    train_data = training_data[train_inds]\n",
    "    train_labels = training_labels[train_inds]\n",
    "    \n",
    "    test_data = training_data[test_inds]\n",
    "    test_labels = training_labels[test_inds]\n",
    "    \n",
    "    model = SVC(kernel='rbf', gamma=gammas[i])\n",
    "    model.fit(train_data, train_labels)\n",
    "    error = 1 - model.score(test_data, test_labels)\n",
    "    errors.append(error)\n",
    "\n",
    "df = pd.DataFrame(np.array([gammas, errors]).T, columns=[\"gamma\", \"CV error\"])\n",
    "df\n"
   ]
  }
 ],
 "metadata": {
  "kernelspec": {
   "display_name": "Python 3",
   "language": "python",
   "name": "python3"
  },
  "language_info": {
   "codemirror_mode": {
    "name": "ipython",
    "version": 3
   },
   "file_extension": ".py",
   "mimetype": "text/x-python",
   "name": "python",
   "nbconvert_exporter": "python",
   "pygments_lexer": "ipython3",
   "version": "3.4.3"
  }
 },
 "nbformat": 4,
 "nbformat_minor": 2
}
