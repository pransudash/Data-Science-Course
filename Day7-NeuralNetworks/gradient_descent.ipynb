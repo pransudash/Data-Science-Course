{
 "cells": [
  {
   "cell_type": "markdown",
   "metadata": {},
   "source": [
    "# Gradient Descent\n",
    "\n",
    "Gradient descent is an algorithm that tries to find minima of functions. This notebook will hopefully give you some sort of intuition to what it's doing."
   ]
  },
  {
   "cell_type": "code",
   "execution_count": 1,
   "metadata": {},
   "outputs": [
    {
     "name": "stdout",
     "output_type": "stream",
     "text": [
      "Using matplotlib backend: TkAgg\n"
     ]
    }
   ],
   "source": [
    "%matplotlib\n",
    "# %matplotlib inline # If you want inline graphs (but non rotatable 3D plots)\n",
    "\n",
    "import numpy as np\n",
    "import matplotlib.pyplot as plt\n",
    "from matplotlib import cm\n",
    "from mpl_toolkits.mplot3d import Axes3D\n",
    "from mpl_toolkits.mplot3d.art3d import Line3DCollection"
   ]
  },
  {
   "cell_type": "markdown",
   "metadata": {},
   "source": [
    "### The Function\n",
    "\n",
    "The next block defines a function that we want to minimize and it's derivative"
   ]
  },
  {
   "cell_type": "code",
   "execution_count": 2,
   "metadata": {},
   "outputs": [],
   "source": [
    "# Parameters to change what the function looks like\n",
    "a = .2    # Paraboloid Term\n",
    "b = 1.3   # sin(x) term\n",
    "c = .8    # sin(y) term\n",
    "d = .8    # ripple term\n",
    "e = .2    # frequency of ripple\n",
    "\n",
    "def f(x):\n",
    "    \"\"\" Function to minimize \"\"\"\n",
    "    x = np.array(x)\n",
    "    return a*np.linalg.norm(x*[2,1])**2 + b*np.sin(x[0]) + c*np.sin(x[1]) + d*np.sin(e*x.dot(x))\n",
    " \n",
    "def df(x):\n",
    "    \"\"\" Derivative of the function to minimize \"\"\"\n",
    "    x = np.array(x)\n",
    "    return 2*a*x*[2,1] + b*np.cos(x[0]) + c*np.cos(x[1]) + d*e*2*x*np.cos(e*x.dot(x))"
   ]
  },
  {
   "cell_type": "markdown",
   "metadata": {},
   "source": [
    "### Plotting\n",
    "\n",
    "We define methods to visualize our function"
   ]
  },
  {
   "cell_type": "code",
   "execution_count": 3,
   "metadata": {},
   "outputs": [],
   "source": [
    "def plot_f_3d(w_min, w_max, res):\n",
    "    fig = plt.figure()\n",
    "    ax = fig.gca(projection='3d')\n",
    "    \n",
    "    # Meshgrid\n",
    "    w1 = np.linspace(w_min, w_max, res)\n",
    "    w2 = np.linspace(w_min, w_max, res)\n",
    "    w1v,w2v = np.meshgrid(w1,w2)\n",
    "    z = np.zeros(w1v.shape)\n",
    "\n",
    "    # Populate z's by evaluating function\n",
    "    for i in range(res):\n",
    "        for j in range(res):\n",
    "            z[i][j] = f([w1v[i][j], w2v[i][j]])\n",
    "\n",
    "    # Plot surface\n",
    "    surf = ax.plot_surface(w1v, w2v, z, cmap=cm.coolwarm)\n",
    "    plt.show()\n",
    "\n",
    "def plot_f_2d(w_min, w_max, res):\n",
    "    # Mesh grid\n",
    "    w1 = np.linspace(w_min, w_max, res)\n",
    "    w2 = np.linspace(w_min, w_max, res)\n",
    "    w1v,w2v = np.meshgrid(w1,w2)\n",
    "    z = np.zeros(w1v.shape)\n",
    "\n",
    "    # Populate z's\n",
    "    for i in range(res):\n",
    "        for j in range(res):\n",
    "            z[i][j] = f([w1v[i][j], w2v[i][j]])\n",
    "\n",
    "    # Plot\n",
    "    plt.imshow(z, extent=(w_min, w_max, w_max, w_min), cmap=cm.coolwarm)\n",
    "    \n",
    "def plot_df_2d(w_min, w_max, res):\n",
    "    # Meshgrid\n",
    "    w1 = np.linspace(w_min, w_max, res)\n",
    "    w2 = np.linspace(w_min, w_max, res)\n",
    "    w1v,w2v = np.meshgrid(w1,w2)\n",
    "    u = np.zeros(w1v.shape)\n",
    "    v = np.zeros(w1v.shape)\n",
    "    \n",
    "    # Populate\n",
    "    for i in range(res):\n",
    "        for j in range(res):\n",
    "            u[i][j] = df([w1v[i][j], w2v[i][j]])[0]\n",
    "            v[i][j] = -df([w1v[i][j], w2v[i][j]])[1]\n",
    "            \n",
    "    # Draw vector field\n",
    "    plt.quiver(w1v, w2v, u, v, scale=50)\n",
    "    plot_f_2d(w_min, w_max, res)"
   ]
  },
  {
   "cell_type": "markdown",
   "metadata": {},
   "source": [
    "Now let's visualize our function in both 2D and 3D:"
   ]
  },
  {
   "cell_type": "code",
   "execution_count": 4,
   "metadata": {},
   "outputs": [],
   "source": [
    "plot_f_2d(-5, 5, 100)\n",
    "plot_f_3d(-5, 5, 100)"
   ]
  },
  {
   "cell_type": "markdown",
   "metadata": {},
   "source": [
    "And visualize the vector field of the function's derivative (note the derivatives point in an \"uphill\" direction):"
   ]
  },
  {
   "cell_type": "code",
   "execution_count": 5,
   "metadata": {},
   "outputs": [],
   "source": [
    "plot_df_2d(-5, 5, 20)"
   ]
  },
  {
   "cell_type": "markdown",
   "metadata": {},
   "source": [
    "Gradient descent works by starting at a point and then repeatedly taking very small steps in the \"downhill\" direction. The gradient,\n",
    "\n",
    "$$ \\vec \\nabla f $$\n",
    "\n",
    "conveniently points in the uphill direction. So every \"step\" of gradient descent, we update our point $ \\vec x $ using the following formula:\n",
    "\n",
    "$$ \\vec x_{n+1} \\leftarrow \\vec x_{n} - \\eta \\; \\vec \\nabla f $$\n",
    "\n",
    "where $ \\eta $ is called the \"step size.\" A smaller step size means convergence will be slower but you're more likely to get a more accurate estimate (intuitevly you're taking smaller, more \"tentative\" steps downhill) "
   ]
  },
  {
   "cell_type": "code",
   "execution_count": 6,
   "metadata": {},
   "outputs": [],
   "source": [
    "def grad_descent(x_0,y_0,eta):\n",
    "    # Initial starting point\n",
    "    x = np.array([x_0,y_0])\n",
    "    \n",
    "    # List to store points\n",
    "    history = []\n",
    "    \n",
    "    # Gradient updates\n",
    "    for i in range(150):\n",
    "        history.append(np.copy(x))\n",
    "        x -= eta * df(x)\n",
    "        \n",
    "    return np.array(history)"
   ]
  },
  {
   "cell_type": "markdown",
   "metadata": {},
   "source": [
    "Method to visualize gradient descent:"
   ]
  },
  {
   "cell_type": "code",
   "execution_count": 26,
   "metadata": {},
   "outputs": [],
   "source": [
    "def plot_GD(x, eta):\n",
    "    w_min = -5\n",
    "    w_max = 5\n",
    "    res = 20\n",
    "    \n",
    "    hist = grad_descent(x[0], x[1], eta)\n",
    "    x = [i[0] for i in hist]\n",
    "    y = [i[1] for i in hist]\n",
    "    \n",
    "    # Plot path\n",
    "    for i in range(len(x)-1):\n",
    "        plt.plot(x[i:i+2],y[i:i+2], c=(float(i) / float(len(x)), .1, .1))\n",
    "    \n",
    "    # Plot steps\n",
    "    for i in range(len(hist)):\n",
    "        plt.scatter(hist[i,0], hist[i,1], c=(float(i) / float(len(hist)), 0, 1 - float(i) / float(len(hist)) ))\n",
    "    #plt.scatter(hist[:,0], hist[:,1], c='cyan')\n",
    "    plot_df_2d(w_min, w_max, res)"
   ]
  },
  {
   "cell_type": "code",
   "execution_count": 27,
   "metadata": {},
   "outputs": [],
   "source": [
    "plot_GD([5.2, 2.5], 0.1)"
   ]
  },
  {
   "cell_type": "code",
   "execution_count": null,
   "metadata": {},
   "outputs": [],
   "source": []
  }
 ],
 "metadata": {
  "kernelspec": {
   "display_name": "Python 2",
   "language": "python",
   "name": "python2"
  },
  "language_info": {
   "codemirror_mode": {
    "name": "ipython",
    "version": 2
   },
   "file_extension": ".py",
   "mimetype": "text/x-python",
   "name": "python",
   "nbconvert_exporter": "python",
   "pygments_lexer": "ipython2",
   "version": "2.7.12"
  }
 },
 "nbformat": 4,
 "nbformat_minor": 1
}
